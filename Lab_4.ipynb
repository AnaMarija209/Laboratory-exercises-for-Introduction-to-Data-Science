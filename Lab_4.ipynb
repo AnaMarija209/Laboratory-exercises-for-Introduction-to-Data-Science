{
  "nbformat": 4,
  "nbformat_minor": 0,
  "metadata": {
    "colab": {
      "provenance": []
    },
    "kernelspec": {
      "name": "python3",
      "display_name": "Python 3"
    },
    "language_info": {
      "name": "python"
    }
  },
  "cells": [
    {
      "cell_type": "markdown",
      "source": [
        "# Neural Networks"
      ],
      "metadata": {
        "id": "v8vsWahSyK_i"
      }
    },
    {
      "cell_type": "markdown",
      "source": [
        "## Building the Neural Networks"
      ],
      "metadata": {
        "id": "G4FVV4npyYwk"
      }
    },
    {
      "cell_type": "markdown",
      "source": [
        "Use the following dataset https://www.kaggle.com/datasets/anmolkumar/health-insurance-cross-sell-prediction?select=train.csv to build three different neural networks using\n",
        "\n",
        "> different layers\n",
        "\n",
        "\n",
        "> activation functions\n",
        "\n",
        "\n",
        "> number of neurons per layer\n",
        "\n",
        "\n",
        "> number of layers\n",
        "\n",
        "\n",
        "\n",
        "\n",
        "\n",
        "\n",
        "\n",
        "\n",
        "\n"
      ],
      "metadata": {
        "id": "oY3xhC9YZsO8"
      }
    },
    {
      "cell_type": "markdown",
      "source": [
        "### Data pre-processing"
      ],
      "metadata": {
        "id": "MOJGKW_9auD4"
      }
    },
    {
      "cell_type": "code",
      "source": [
        "\n",
        "import pandas as pd\n",
        "from sklearn.preprocessing import LabelEncoder\n",
        "df_train = pd.read_csv(\"/content/drive/MyDrive/train.csv\")\n",
        "df_train.head()\n",
        "enc_gender = LabelEncoder()\n",
        "enc_gender.fit(df_train['Gender'])\n",
        "enc_vehicle_age = LabelEncoder()\n",
        "enc_vehicle_age.fit(df_train['Vehicle_Age'])\n",
        "enc_vehicle_damage = LabelEncoder()\n",
        "enc_vehicle_damage.fit(df_train['Vehicle_Damage'])\n",
        "df_train['Gender'] = enc_gender.transform(df_train['Gender'])\n",
        "\n",
        "df_train['Vehicle_Age'] = enc_vehicle_age.transform(df_train['Vehicle_Age'])\n",
        "\n",
        "df_train['Vehicle_Damage'] = enc_vehicle_damage.transform(df_train['Vehicle_Damage'])\n",
        "\n",
        "df_train.drop(['id'], axis=1, inplace=True)\n",
        "df_train.head()\n",
        "df_train = pd.concat([df_train[df_train['Response'] == 1], df_train[df_train['Response'] == 0][:46710]], axis=0)\n",
        "\n",
        "\n"
      ],
      "metadata": {
        "id": "UR3dEMr-atq7"
      },
      "execution_count": null,
      "outputs": []
    },
    {
      "cell_type": "code",
      "source": [
        "from google.colab import drive\n",
        "drive.mount('/content/drive')"
      ],
      "metadata": {
        "colab": {
          "base_uri": "https://localhost:8080/"
        },
        "id": "hyG5fap5goK9",
        "outputId": "80817f01-d3ee-4711-9840-bf6eeba993ff"
      },
      "execution_count": null,
      "outputs": [
        {
          "output_type": "stream",
          "name": "stdout",
          "text": [
            "Mounted at /content/drive\n"
          ]
        }
      ]
    },
    {
      "cell_type": "code",
      "source": [
        "from sklearn.model_selection import train_test_split\n",
        "X_train, X_test, y_train, y_test = train_test_split(df_train.drop(['Response'], axis=1), df_train['Response'], test_size=0.33, random_state=42)\n"
      ],
      "metadata": {
        "id": "TtUQh2EijG96"
      },
      "execution_count": null,
      "outputs": []
    },
    {
      "cell_type": "code",
      "source": [
        "X_train.shape\n",
        "\n"
      ],
      "metadata": {
        "colab": {
          "base_uri": "https://localhost:8080/"
        },
        "id": "gssnInXrjcnX",
        "outputId": "33a10927-4c87-474d-8728-1a93d4954c44"
      },
      "execution_count": null,
      "outputs": [
        {
          "output_type": "execute_result",
          "data": {
            "text/plain": [
              "(62591, 10)"
            ]
          },
          "metadata": {},
          "execution_count": 7
        }
      ]
    },
    {
      "cell_type": "markdown",
      "source": [
        "### Neural Network 1"
      ],
      "metadata": {
        "id": "z-cjIbEqaWwN"
      }
    },
    {
      "cell_type": "code",
      "execution_count": null,
      "metadata": {
        "id": "T4RfKWrAZP-8"
      },
      "outputs": [],
      "source": [
        "from sklearn.preprocessing import StandardScaler\n",
        "sc = StandardScaler()\n",
        "X_train = sc.fit_transform(X_train)\n",
        "X_test = sc.transform(X_test)\n",
        "\n"
      ]
    },
    {
      "cell_type": "code",
      "source": [
        "from keras.models import Sequential\n",
        "from keras.layers import Dense\n",
        "\n"
      ],
      "metadata": {
        "id": "TxdDe3e8jjo5"
      },
      "execution_count": null,
      "outputs": []
    },
    {
      "cell_type": "code",
      "source": [
        "model1 = Sequential()\n",
        "model1.add(Dense(32, input_dim=10, activation='relu'))\n",
        "\n",
        "model1.add(Dense(16, activation='relu'))\n",
        "model1.add(Dense(16, activation='relu'))\n",
        "\n",
        "model1.add(Dense(1,  activation='sigmoid'))\n",
        "model1.compile(loss='binary_crossentropy', optimizer='rmsprop', metrics=['accuracy'])"
      ],
      "metadata": {
        "id": "ELhtlH66jndP"
      },
      "execution_count": null,
      "outputs": []
    },
    {
      "cell_type": "code",
      "source": [
        "model2 = Sequential()\n",
        "model2.add(Dense(128, input_dim=10, kernel_initializer='uniform', activation='relu'))\n",
        "\n",
        "model2.add(Dense(64, activation='relu'))\n",
        "model2.add(Dense(32, activation='relu'))\n",
        "model2.add(Dense(32, activation='relu'))\n",
        "\n",
        "model2.add(Dense(1, activation='sigmoid'))\n",
        "model2.compile(loss='binary_crossentropy', optimizer='adam', metrics=['accuracy'])"
      ],
      "metadata": {
        "id": "HrMt-vXOjrhD"
      },
      "execution_count": null,
      "outputs": []
    },
    {
      "cell_type": "code",
      "source": [
        "model3 = Sequential()\n",
        "model3.add(Dense(128, input_dim=10, kernel_initializer='uniform', activation='relu'))\n",
        "\n",
        "model3.add(Dense(64, activation='relu'))\n",
        "model3.add(Dense(32, activation='relu'))\n",
        "model3.add(Dense(32, activation='relu'))\n",
        "\n",
        "model3.add(Dense(2, activation='softmax'))\n",
        "model3.compile(loss='binary_crossentropy', optimizer='adam', metrics=['accuracy'])\n",
        "\n"
      ],
      "metadata": {
        "id": "4fwhivm3jzPC"
      },
      "execution_count": null,
      "outputs": []
    },
    {
      "cell_type": "code",
      "source": [
        "model4 = Sequential()\n",
        "model4.add(Dense(128, input_dim=10, kernel_initializer='uniform', activation='relu'))\n",
        "\n",
        "model4.add(Dense(64, activation='relu'))\n",
        "\n",
        "model4.add(Dense(1, activation='sigmoid'))\n",
        "model4.compile(loss='binary_crossentropy', optimizer='adam', metrics=['accuracy'])\n",
        "\n"
      ],
      "metadata": {
        "id": "q-KLQLq3j4J5"
      },
      "execution_count": null,
      "outputs": []
    },
    {
      "cell_type": "code",
      "source": [
        "model5 = Sequential()\n",
        "model5.add(Dense(128, input_dim=10, kernel_initializer='uniform', activation='relu'))\n",
        "model5.add(Dense(256, activation='relu'))\n",
        "model5.add(Dense(256, activation='relu'))\n",
        "model5.add(Dense(128, activation='relu'))\n",
        "model5.add(Dense(128, activation='relu'))\n",
        "\n",
        "model5.add(Dense(64, activation='relu'))\n",
        "\n",
        "model5.add(Dense(1, activation='sigmoid'))\n",
        "model5.compile(loss='binary_crossentropy', optimizer='adam', metrics=['accuracy'])\n",
        "\n"
      ],
      "metadata": {
        "id": "-wCSnoVnj7qF"
      },
      "execution_count": null,
      "outputs": []
    },
    {
      "cell_type": "code",
      "source": [
        "model6 = Sequential()\n",
        "model6.add(Dense(4, input_dim=10, activation='relu'))\n",
        "model6.add(Dense(4, activation='relu'))\n",
        "\n",
        "model6.add(Dense(1, activation='sigmoid'))\n",
        "model6.compile(loss='binary_crossentropy', optimizer='adam', metrics=['accuracy'])\n",
        "\n"
      ],
      "metadata": {
        "id": "KhIKjlq4j_m8"
      },
      "execution_count": null,
      "outputs": []
    },
    {
      "cell_type": "code",
      "source": [
        "models = [model1, model2, model3, model4, model5, model6]"
      ],
      "metadata": {
        "id": "-i_sItrnkEw6"
      },
      "execution_count": null,
      "outputs": []
    },
    {
      "cell_type": "code",
      "source": [
        "import numpy as np\n",
        "\n"
      ],
      "metadata": {
        "id": "_ZNBlIYvkGa5"
      },
      "execution_count": null,
      "outputs": []
    },
    {
      "cell_type": "code",
      "source": [
        "for model in models:\n",
        "  print(model.summary())\n",
        "  if model == model3:\n",
        "    model.fit(X_train, np.array(list([np.array((0,1)) if t==0 else np.array((1,0)) for t in y_train])), epochs=15, batch_size=25)\n",
        "  else:\n",
        "    model.fit(X_train, y_train, epochs=15, batch_size=25)\n"
      ],
      "metadata": {
        "colab": {
          "base_uri": "https://localhost:8080/"
        },
        "id": "uen1afetkJrc",
        "outputId": "627f0cc5-e7c4-4467-8c92-a6b53649ba76"
      },
      "execution_count": null,
      "outputs": [
        {
          "output_type": "stream",
          "name": "stdout",
          "text": [
            "Model: \"sequential\"\n",
            "_________________________________________________________________\n",
            " Layer (type)                Output Shape              Param #   \n",
            "=================================================================\n",
            " dense (Dense)               (None, 32)                352       \n",
            "                                                                 \n",
            " dense_1 (Dense)             (None, 16)                528       \n",
            "                                                                 \n",
            " dense_2 (Dense)             (None, 16)                272       \n",
            "                                                                 \n",
            " dense_3 (Dense)             (None, 1)                 17        \n",
            "                                                                 \n",
            "=================================================================\n",
            "Total params: 1169 (4.57 KB)\n",
            "Trainable params: 1169 (4.57 KB)\n",
            "Non-trainable params: 0 (0.00 Byte)\n",
            "_________________________________________________________________\n",
            "None\n",
            "Epoch 1/15\n",
            "2504/2504 [==============================] - 3s 1ms/step - loss: 0.4276 - accuracy: 0.7947\n",
            "Epoch 2/15\n",
            "2504/2504 [==============================] - 3s 1ms/step - loss: 0.4274 - accuracy: 0.7953\n",
            "Epoch 3/15\n",
            "2504/2504 [==============================] - 3s 1ms/step - loss: 0.4284 - accuracy: 0.7951\n",
            "Epoch 4/15\n",
            "2504/2504 [==============================] - 3s 1ms/step - loss: 0.4276 - accuracy: 0.7952\n",
            "Epoch 5/15\n",
            "2504/2504 [==============================] - 3s 1ms/step - loss: 0.4280 - accuracy: 0.7957\n",
            "Epoch 6/15\n",
            "2504/2504 [==============================] - 3s 1ms/step - loss: 0.4287 - accuracy: 0.7952\n",
            "Epoch 7/15\n",
            "2504/2504 [==============================] - 3s 1ms/step - loss: 0.4282 - accuracy: 0.7946\n",
            "Epoch 8/15\n",
            "2504/2504 [==============================] - 3s 1ms/step - loss: 0.4289 - accuracy: 0.7959\n",
            "Epoch 9/15\n",
            "2504/2504 [==============================] - 3s 1ms/step - loss: 0.4288 - accuracy: 0.7957\n",
            "Epoch 10/15\n",
            "2504/2504 [==============================] - 3s 1ms/step - loss: 0.4285 - accuracy: 0.7954\n",
            "Epoch 11/15\n",
            "2504/2504 [==============================] - 3s 1ms/step - loss: 0.4293 - accuracy: 0.7954\n",
            "Epoch 12/15\n",
            "2504/2504 [==============================] - 3s 1ms/step - loss: 0.4288 - accuracy: 0.7946\n",
            "Epoch 13/15\n",
            "2504/2504 [==============================] - 3s 1ms/step - loss: 0.4290 - accuracy: 0.7957\n",
            "Epoch 14/15\n",
            "2504/2504 [==============================] - 3s 1ms/step - loss: 0.4291 - accuracy: 0.7948\n",
            "Epoch 15/15\n",
            "2504/2504 [==============================] - 3s 1ms/step - loss: 0.4302 - accuracy: 0.7956\n",
            "Model: \"sequential_1\"\n",
            "_________________________________________________________________\n",
            " Layer (type)                Output Shape              Param #   \n",
            "=================================================================\n",
            " dense_4 (Dense)             (None, 128)               1408      \n",
            "                                                                 \n",
            " dense_5 (Dense)             (None, 64)                8256      \n",
            "                                                                 \n",
            " dense_6 (Dense)             (None, 32)                2080      \n",
            "                                                                 \n",
            " dense_7 (Dense)             (None, 32)                1056      \n",
            "                                                                 \n",
            " dense_8 (Dense)             (None, 1)                 33        \n",
            "                                                                 \n",
            "=================================================================\n",
            "Total params: 12833 (50.13 KB)\n",
            "Trainable params: 12833 (50.13 KB)\n",
            "Non-trainable params: 0 (0.00 Byte)\n",
            "_________________________________________________________________\n",
            "None\n",
            "Epoch 1/15\n",
            "2504/2504 [==============================] - 4s 2ms/step - loss: 0.4239 - accuracy: 0.7948\n",
            "Epoch 2/15\n",
            "2504/2504 [==============================] - 3s 1ms/step - loss: 0.4235 - accuracy: 0.7965\n",
            "Epoch 3/15\n",
            "2504/2504 [==============================] - 3s 1ms/step - loss: 0.4229 - accuracy: 0.7957\n",
            "Epoch 4/15\n",
            "2504/2504 [==============================] - 5s 2ms/step - loss: 0.4227 - accuracy: 0.7964\n",
            "Epoch 5/15\n",
            "2504/2504 [==============================] - 6s 2ms/step - loss: 0.4225 - accuracy: 0.7965\n",
            "Epoch 6/15\n",
            "2504/2504 [==============================] - 3s 1ms/step - loss: 0.4220 - accuracy: 0.7964\n",
            "Epoch 7/15\n",
            "2504/2504 [==============================] - 4s 1ms/step - loss: 0.4219 - accuracy: 0.7968\n",
            "Epoch 8/15\n",
            "2504/2504 [==============================] - 4s 1ms/step - loss: 0.4213 - accuracy: 0.7967\n",
            "Epoch 9/15\n",
            "2504/2504 [==============================] - 3s 1ms/step - loss: 0.4209 - accuracy: 0.7970\n",
            "Epoch 10/15\n",
            "2504/2504 [==============================] - 3s 1ms/step - loss: 0.4205 - accuracy: 0.7977\n",
            "Epoch 11/15\n",
            "2504/2504 [==============================] - 4s 2ms/step - loss: 0.4203 - accuracy: 0.7976\n",
            "Epoch 12/15\n",
            "2504/2504 [==============================] - 3s 1ms/step - loss: 0.4203 - accuracy: 0.7972\n",
            "Epoch 13/15\n",
            "2504/2504 [==============================] - 3s 1ms/step - loss: 0.4197 - accuracy: 0.7977\n",
            "Epoch 14/15\n",
            "2504/2504 [==============================] - 4s 1ms/step - loss: 0.4194 - accuracy: 0.7970\n",
            "Epoch 15/15\n",
            "2504/2504 [==============================] - 4s 1ms/step - loss: 0.4188 - accuracy: 0.7979\n",
            "Model: \"sequential_2\"\n",
            "_________________________________________________________________\n",
            " Layer (type)                Output Shape              Param #   \n",
            "=================================================================\n",
            " dense_9 (Dense)             (None, 128)               1408      \n",
            "                                                                 \n",
            " dense_10 (Dense)            (None, 64)                8256      \n",
            "                                                                 \n",
            " dense_11 (Dense)            (None, 32)                2080      \n",
            "                                                                 \n",
            " dense_12 (Dense)            (None, 32)                1056      \n",
            "                                                                 \n",
            " dense_13 (Dense)            (None, 2)                 66        \n",
            "                                                                 \n",
            "=================================================================\n",
            "Total params: 12866 (50.26 KB)\n",
            "Trainable params: 12866 (50.26 KB)\n",
            "Non-trainable params: 0 (0.00 Byte)\n",
            "_________________________________________________________________\n",
            "None\n",
            "Epoch 1/15\n",
            "2504/2504 [==============================] - 3s 1ms/step - loss: 0.4236 - accuracy: 0.7963\n",
            "Epoch 2/15\n",
            "2504/2504 [==============================] - 4s 2ms/step - loss: 0.4232 - accuracy: 0.7969\n",
            "Epoch 3/15\n",
            "2504/2504 [==============================] - 3s 1ms/step - loss: 0.4230 - accuracy: 0.7974\n",
            "Epoch 4/15\n",
            "2504/2504 [==============================] - 3s 1ms/step - loss: 0.4227 - accuracy: 0.7971\n",
            "Epoch 5/15\n",
            "2504/2504 [==============================] - 4s 2ms/step - loss: 0.4225 - accuracy: 0.7959\n",
            "Epoch 6/15\n",
            "2504/2504 [==============================] - 4s 2ms/step - loss: 0.4219 - accuracy: 0.7974\n",
            "Epoch 7/15\n",
            "2504/2504 [==============================] - 3s 1ms/step - loss: 0.4218 - accuracy: 0.7975\n",
            "Epoch 8/15\n",
            "2504/2504 [==============================] - 3s 1ms/step - loss: 0.4215 - accuracy: 0.7972\n",
            "Epoch 9/15\n",
            "2504/2504 [==============================] - 4s 2ms/step - loss: 0.4213 - accuracy: 0.7973\n",
            "Epoch 10/15\n",
            "2504/2504 [==============================] - 4s 1ms/step - loss: 0.4210 - accuracy: 0.7967\n",
            "Epoch 11/15\n",
            "2504/2504 [==============================] - 4s 1ms/step - loss: 0.4202 - accuracy: 0.7980\n",
            "Epoch 12/15\n",
            "2504/2504 [==============================] - 5s 2ms/step - loss: 0.4201 - accuracy: 0.7986\n",
            "Epoch 13/15\n",
            "2504/2504 [==============================] - 5s 2ms/step - loss: 0.4194 - accuracy: 0.7978\n",
            "Epoch 14/15\n",
            "2504/2504 [==============================] - 5s 2ms/step - loss: 0.4192 - accuracy: 0.7977\n",
            "Epoch 15/15\n",
            "2504/2504 [==============================] - 4s 2ms/step - loss: 0.4191 - accuracy: 0.7980\n",
            "Model: \"sequential_3\"\n",
            "_________________________________________________________________\n",
            " Layer (type)                Output Shape              Param #   \n",
            "=================================================================\n",
            " dense_14 (Dense)            (None, 128)               1408      \n",
            "                                                                 \n",
            " dense_15 (Dense)            (None, 64)                8256      \n",
            "                                                                 \n",
            " dense_16 (Dense)            (None, 1)                 65        \n",
            "                                                                 \n",
            "=================================================================\n",
            "Total params: 9729 (38.00 KB)\n",
            "Trainable params: 9729 (38.00 KB)\n",
            "Non-trainable params: 0 (0.00 Byte)\n",
            "_________________________________________________________________\n",
            "None\n",
            "Epoch 1/15\n",
            "2504/2504 [==============================] - 3s 1ms/step - loss: 0.4241 - accuracy: 0.7958\n",
            "Epoch 2/15\n",
            "2504/2504 [==============================] - 3s 1ms/step - loss: 0.4237 - accuracy: 0.7967\n",
            "Epoch 3/15\n",
            "2504/2504 [==============================] - 4s 2ms/step - loss: 0.4233 - accuracy: 0.7964\n",
            "Epoch 4/15\n",
            "2504/2504 [==============================] - 3s 1ms/step - loss: 0.4234 - accuracy: 0.7966\n",
            "Epoch 5/15\n",
            "2504/2504 [==============================] - 3s 1ms/step - loss: 0.4227 - accuracy: 0.7965\n",
            "Epoch 6/15\n",
            "2504/2504 [==============================] - 4s 1ms/step - loss: 0.4228 - accuracy: 0.7967\n",
            "Epoch 7/15\n",
            "2504/2504 [==============================] - 4s 1ms/step - loss: 0.4222 - accuracy: 0.7974\n",
            "Epoch 8/15\n",
            "2504/2504 [==============================] - 3s 1ms/step - loss: 0.4223 - accuracy: 0.7975\n",
            "Epoch 9/15\n",
            "2504/2504 [==============================] - 3s 1ms/step - loss: 0.4221 - accuracy: 0.7973\n",
            "Epoch 10/15\n",
            "2504/2504 [==============================] - 4s 2ms/step - loss: 0.4215 - accuracy: 0.7971\n",
            "Epoch 11/15\n",
            "2504/2504 [==============================] - 3s 1ms/step - loss: 0.4215 - accuracy: 0.7974\n",
            "Epoch 12/15\n",
            "2504/2504 [==============================] - 3s 1ms/step - loss: 0.4214 - accuracy: 0.7979\n",
            "Epoch 13/15\n",
            "2504/2504 [==============================] - 3s 1ms/step - loss: 0.4211 - accuracy: 0.7977\n",
            "Epoch 14/15\n",
            "2504/2504 [==============================] - 4s 1ms/step - loss: 0.4210 - accuracy: 0.7971\n",
            "Epoch 15/15\n",
            "2504/2504 [==============================] - 3s 1ms/step - loss: 0.4205 - accuracy: 0.7980\n",
            "Model: \"sequential_4\"\n",
            "_________________________________________________________________\n",
            " Layer (type)                Output Shape              Param #   \n",
            "=================================================================\n",
            " dense_17 (Dense)            (None, 128)               1408      \n",
            "                                                                 \n",
            " dense_18 (Dense)            (None, 256)               33024     \n",
            "                                                                 \n",
            " dense_19 (Dense)            (None, 256)               65792     \n",
            "                                                                 \n",
            " dense_20 (Dense)            (None, 128)               32896     \n",
            "                                                                 \n",
            " dense_21 (Dense)            (None, 128)               16512     \n",
            "                                                                 \n",
            " dense_22 (Dense)            (None, 64)                8256      \n",
            "                                                                 \n",
            " dense_23 (Dense)            (None, 1)                 65        \n",
            "                                                                 \n",
            "=================================================================\n",
            "Total params: 157953 (617.00 KB)\n",
            "Trainable params: 157953 (617.00 KB)\n",
            "Non-trainable params: 0 (0.00 Byte)\n",
            "_________________________________________________________________\n",
            "None\n",
            "Epoch 1/15\n",
            "2504/2504 [==============================] - 9s 4ms/step - loss: 0.4239 - accuracy: 0.7965\n",
            "Epoch 2/15\n",
            "2504/2504 [==============================] - 9s 3ms/step - loss: 0.4236 - accuracy: 0.7960\n",
            "Epoch 3/15\n",
            "2504/2504 [==============================] - 8s 3ms/step - loss: 0.4230 - accuracy: 0.7964\n",
            "Epoch 4/15\n",
            "2504/2504 [==============================] - 7s 3ms/step - loss: 0.4230 - accuracy: 0.7971\n",
            "Epoch 5/15\n",
            "2504/2504 [==============================] - 8s 3ms/step - loss: 0.4224 - accuracy: 0.7962\n",
            "Epoch 6/15\n",
            "2504/2504 [==============================] - 7s 3ms/step - loss: 0.4224 - accuracy: 0.7968\n",
            "Epoch 7/15\n",
            "2504/2504 [==============================] - 7s 3ms/step - loss: 0.4218 - accuracy: 0.7966\n",
            "Epoch 8/15\n",
            "2504/2504 [==============================] - 8s 3ms/step - loss: 0.4216 - accuracy: 0.7970\n",
            "Epoch 9/15\n",
            "2504/2504 [==============================] - 7s 3ms/step - loss: 0.4212 - accuracy: 0.7967\n",
            "Epoch 10/15\n",
            "2504/2504 [==============================] - 8s 3ms/step - loss: 0.4208 - accuracy: 0.7981\n",
            "Epoch 11/15\n",
            "2504/2504 [==============================] - 8s 3ms/step - loss: 0.4206 - accuracy: 0.7988\n",
            "Epoch 12/15\n",
            "2504/2504 [==============================] - 7s 3ms/step - loss: 0.4196 - accuracy: 0.7984\n",
            "Epoch 13/15\n",
            "2504/2504 [==============================] - 8s 3ms/step - loss: 0.4199 - accuracy: 0.7979\n",
            "Epoch 14/15\n",
            "2504/2504 [==============================] - 7s 3ms/step - loss: 0.4194 - accuracy: 0.7984\n",
            "Epoch 15/15\n",
            "2504/2504 [==============================] - 7s 3ms/step - loss: 0.4187 - accuracy: 0.7986\n",
            "Model: \"sequential_5\"\n",
            "_________________________________________________________________\n",
            " Layer (type)                Output Shape              Param #   \n",
            "=================================================================\n",
            " dense_24 (Dense)            (None, 4)                 44        \n",
            "                                                                 \n",
            " dense_25 (Dense)            (None, 4)                 20        \n",
            "                                                                 \n",
            " dense_26 (Dense)            (None, 1)                 5         \n",
            "                                                                 \n",
            "=================================================================\n",
            "Total params: 69 (276.00 Byte)\n",
            "Trainable params: 69 (276.00 Byte)\n",
            "Non-trainable params: 0 (0.00 Byte)\n",
            "_________________________________________________________________\n",
            "None\n",
            "Epoch 1/15\n",
            "2504/2504 [==============================] - 3s 1ms/step - loss: 0.4325 - accuracy: 0.7950\n",
            "Epoch 2/15\n",
            "2504/2504 [==============================] - 4s 2ms/step - loss: 0.4322 - accuracy: 0.7950\n",
            "Epoch 3/15\n",
            "2504/2504 [==============================] - 3s 1ms/step - loss: 0.4324 - accuracy: 0.7935\n",
            "Epoch 4/15\n",
            "2504/2504 [==============================] - 3s 1ms/step - loss: 0.4322 - accuracy: 0.7944\n",
            "Epoch 5/15\n",
            "2504/2504 [==============================] - 3s 1ms/step - loss: 0.4321 - accuracy: 0.7941\n",
            "Epoch 6/15\n",
            "2504/2504 [==============================] - 4s 1ms/step - loss: 0.4317 - accuracy: 0.7942\n",
            "Epoch 7/15\n",
            "2504/2504 [==============================] - 3s 1ms/step - loss: 0.4319 - accuracy: 0.7945\n",
            "Epoch 8/15\n",
            "2504/2504 [==============================] - 3s 1ms/step - loss: 0.4317 - accuracy: 0.7941\n",
            "Epoch 9/15\n",
            "2504/2504 [==============================] - 3s 1ms/step - loss: 0.4315 - accuracy: 0.7947\n",
            "Epoch 10/15\n",
            "2504/2504 [==============================] - 3s 1ms/step - loss: 0.4317 - accuracy: 0.7944\n",
            "Epoch 11/15\n",
            "2504/2504 [==============================] - 3s 1ms/step - loss: 0.4315 - accuracy: 0.7947\n",
            "Epoch 12/15\n",
            "2504/2504 [==============================] - 3s 1ms/step - loss: 0.4314 - accuracy: 0.7932\n",
            "Epoch 13/15\n",
            "2504/2504 [==============================] - 4s 1ms/step - loss: 0.4312 - accuracy: 0.7944\n",
            "Epoch 14/15\n",
            "2504/2504 [==============================] - 3s 1ms/step - loss: 0.4312 - accuracy: 0.7945\n",
            "Epoch 15/15\n",
            "2504/2504 [==============================] - 3s 1ms/step - loss: 0.4313 - accuracy: 0.7938\n"
          ]
        }
      ]
    },
    {
      "cell_type": "code",
      "source": [
        "for model in models:\n",
        "  if model == model3:\n",
        "    print(model.evaluate(X_test, np.array(list([np.array((0,1)) if t==0 else np.array((1,0)) for t in y_test]))))\n",
        "  else:\n",
        "    print(model.evaluate(X_test, y_test))\n",
        "\n"
      ],
      "metadata": {
        "colab": {
          "base_uri": "https://localhost:8080/"
        },
        "id": "t26UYlFomWr8",
        "outputId": "4b77d859-d558-4e84-e995-d8f2807b7135"
      },
      "execution_count": null,
      "outputs": [
        {
          "output_type": "stream",
          "name": "stdout",
          "text": [
            "964/964 [==============================] - 1s 1ms/step - loss: 0.4328 - accuracy: 0.7925\n",
            "[0.43284159898757935, 0.7925329804420471]\n",
            "964/964 [==============================] - 1s 1ms/step - loss: 0.4343 - accuracy: 0.7904\n",
            "[0.4343410134315491, 0.7903597354888916]\n",
            "964/964 [==============================] - 1s 1ms/step - loss: 0.4367 - accuracy: 0.7895\n",
            "[0.43669822812080383, 0.7895163893699646]\n",
            "964/964 [==============================] - 1s 1ms/step - loss: 0.4319 - accuracy: 0.7923\n",
            "[0.4319353699684143, 0.7922735214233398]\n",
            "964/964 [==============================] - 1s 1ms/step - loss: 0.4357 - accuracy: 0.7903\n",
            "[0.4356718957424164, 0.7903273105621338]\n",
            "964/964 [==============================] - 1s 994us/step - loss: 0.4352 - accuracy: 0.7919\n",
            "[0.4351595342159271, 0.7919167280197144]\n"
          ]
        }
      ]
    }
  ]
}